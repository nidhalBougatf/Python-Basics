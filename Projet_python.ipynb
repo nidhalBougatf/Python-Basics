{
 "cells": [
  {
   "cell_type": "markdown",
   "metadata": {},
   "source": [
    "# Definition des deux tables\n",
    "vehicule = [['98300', 'Bus', 'IBUS'], ['1562', 'TGV', 'SNCF'], ['30990', 'A320', 'Hop!']]\n",
    "trajet = [[\"Trajet1\", \"Lille\", \"Rennes\", \"5oct.2016\", \"09h00\", \"30990\"],\n",
    "         [\"Trajet1\", \"Lille\", \"Rennes\", \"5oct.2016\", \"10h00\", \"98300\"],\n",
    "         [\"Trajet1\", \"Lille\", \"Rennes\", \"5oct.2016\", \"14h00\", \"1562\"]\n",
    "         ]"
   ]
  },
  {
   "cell_type": "code",
   "execution_count": null,
   "metadata": {},
   "outputs": [],
   "source": []
  },
  {
   "cell_type": "code",
   "execution_count": null,
   "metadata": {},
   "outputs": [],
   "source": []
  },
  {
   "cell_type": "code",
   "execution_count": 1,
   "metadata": {},
   "outputs": [],
   "source": [
    "# 3.1 Sélection avec test d'égalité à une constante"
   ]
  },
  {
   "cell_type": "code",
   "execution_count": 2,
   "metadata": {},
   "outputs": [],
   "source": [
    "def SelectionConstante(table, indice, constante):\n",
    "    \"\"\"\n",
    "    Arguments :\n",
    "        table : liste de taille n represantant la table d'enregistrements\n",
    "        indice : indice de l'attribut\n",
    "        constante : valeur de l'attribut\n",
    "    Return:\n",
    "        new_table : liste de taille 0 <= N <= n contenant les enregistrements dont \n",
    "        la valeur de l'attribut d'indice 'indice' égale à 'constante'.\n",
    "    \n",
    "    Complexité: \n",
    "        table.append() : O(1)(amortie)\n",
    "        accés d'un élement dans une liste (x[indice]) : O(1)\n",
    "        iteration sur tous les valeurs de la table : O(n)  \n",
    "        => Complexité total : O(n)\n",
    "    \"\"\"\n",
    "    \n",
    "    new_table = []\n",
    "    for x in table:\n",
    "        if(x[indice] == constante):\n",
    "            new_table.append(x)\n",
    "            \n",
    "    return new_table; "
   ]
  },
  {
   "cell_type": "code",
   "execution_count": 3,
   "metadata": {},
   "outputs": [
    {
     "ename": "NameError",
     "evalue": "name 'trajet' is not defined",
     "output_type": "error",
     "traceback": [
      "\u001b[1;31m---------------------------------------------------------------------------\u001b[0m",
      "\u001b[1;31mNameError\u001b[0m                                 Traceback (most recent call last)",
      "\u001b[1;32m<ipython-input-3-6e81f2e3cc6e>\u001b[0m in \u001b[0;36m<module>\u001b[1;34m()\u001b[0m\n\u001b[0;32m      1\u001b[0m \u001b[1;31m#test\u001b[0m\u001b[1;33m\u001b[0m\u001b[1;33m\u001b[0m\u001b[0m\n\u001b[1;32m----> 2\u001b[1;33m \u001b[0mSelectionConstante\u001b[0m\u001b[1;33m(\u001b[0m\u001b[0mtrajet\u001b[0m\u001b[1;33m,\u001b[0m \u001b[1;36m5\u001b[0m\u001b[1;33m,\u001b[0m \u001b[1;34m\"30990\"\u001b[0m\u001b[1;33m)\u001b[0m\u001b[1;33m\u001b[0m\u001b[0m\n\u001b[0m",
      "\u001b[1;31mNameError\u001b[0m: name 'trajet' is not defined"
     ]
    }
   ],
   "source": [
    "#test\n",
    "SelectionConstante(trajet, 5, \"30990\")"
   ]
  },
  {
   "cell_type": "markdown",
   "metadata": {},
   "source": [
    "# 3.2 Sélection avec test d'égalité entre deux attributs"
   ]
  },
  {
   "cell_type": "code",
   "execution_count": null,
   "metadata": {},
   "outputs": [],
   "source": [
    "def SelectionEgalite(table, indice1, indice2):\n",
    "    \"\"\"\n",
    "    Arguments :\n",
    "        table : liste de taille n represantant table d'enregistrements\n",
    "        indice1 : indice du 1er attribut\n",
    "        indice2 : indice du 2eme attribut\n",
    "    Return:\n",
    "        new_table :liste de taille 0 <= N <= n contenants enregistrements dont la valeur de l'attribut d'indice 'indice1'\n",
    "        égale à la valeur de l'attribut d'indice 'indice2' \n",
    "    \n",
    "    Complexité: \n",
    "        table.append() : O(1)(amortie)\n",
    "        accés d'un élement dans une liste (x[indice]) : O(1)\n",
    "        iteration sur tous les valeurs de la table : O(n) avec n = nombre d'enregistrements (len(table))  \n",
    "        => Complexité total : O(n)\n",
    "    \"\"\"\n",
    "    \n",
    "    if(indice1 == indice2):\n",
    "        return table\n",
    "    \n",
    "    new_table = []\n",
    "    for x in table:\n",
    "        if(x[indice1] == x[indice2]):\n",
    "            new_table.append(x)\n",
    "    \n",
    "    return new_table"
   ]
  },
  {
   "cell_type": "code",
   "execution_count": null,
   "metadata": {},
   "outputs": [],
   "source": [
    "#test\n",
    "SelectionEgalite(trajet, 1, 2)"
   ]
  },
  {
   "cell_type": "markdown",
   "metadata": {},
   "source": [
    "# 3.3 Projection sur des indices"
   ]
  },
  {
   "cell_type": "code",
   "execution_count": 4,
   "metadata": {},
   "outputs": [],
   "source": [
    "def ProjectionEnregistrement(enregistrement, liste_indices):\n",
    "    \"\"\"\n",
    "    Arguments :\n",
    "        enregistrement : liste de taille k representant un enregistrement\n",
    "        liste_indices : liste de taille k1 0 < k1 <= k identifiant les indices des attributs avec 0 < indice < k \n",
    "    Return:\n",
    "        new_enregistrement : liste de taille k1 representant un nouvel enregistrement\n",
    "    Complexité: \n",
    "        new_enregistrement.append() : O(1)(amortie)\n",
    "        Accés d'un élement dans une liste (enregistrement[i]) : O(1)\n",
    "        iteration sur la liste_indices : O(k1) avec k1 = len(liste_indices)  \n",
    "        => Complexité total : O(k1)\n",
    "    \"\"\"\n",
    "    \n",
    "    new_enregistrement = []\n",
    "    k1 = len(enregistrement)\n",
    "    for i in liste_indices:\n",
    "        new_enregistrement.append(enregistrement[i])\n",
    "            \n",
    "    return new_enregistrement"
   ]
  },
  {
   "cell_type": "code",
   "execution_count": 5,
   "metadata": {},
   "outputs": [
    {
     "ename": "NameError",
     "evalue": "name 'trajet' is not defined",
     "output_type": "error",
     "traceback": [
      "\u001b[1;31m---------------------------------------------------------------------------\u001b[0m",
      "\u001b[1;31mNameError\u001b[0m                                 Traceback (most recent call last)",
      "\u001b[1;32m<ipython-input-5-c379ed992a4f>\u001b[0m in \u001b[0;36m<module>\u001b[1;34m()\u001b[0m\n\u001b[0;32m      1\u001b[0m \u001b[1;31m#test\u001b[0m\u001b[1;33m\u001b[0m\u001b[1;33m\u001b[0m\u001b[0m\n\u001b[1;32m----> 2\u001b[1;33m \u001b[0mProjectionEnregistrement\u001b[0m\u001b[1;33m(\u001b[0m\u001b[0mtrajet\u001b[0m\u001b[1;33m[\u001b[0m\u001b[1;36m1\u001b[0m\u001b[1;33m]\u001b[0m\u001b[1;33m,\u001b[0m \u001b[1;33m[\u001b[0m\u001b[1;36m1\u001b[0m\u001b[1;33m,\u001b[0m \u001b[1;36m2\u001b[0m\u001b[1;33m]\u001b[0m\u001b[1;33m)\u001b[0m\u001b[1;33m\u001b[0m\u001b[0m\n\u001b[0m",
      "\u001b[1;31mNameError\u001b[0m: name 'trajet' is not defined"
     ]
    }
   ],
   "source": [
    "#test\n",
    "ProjectionEnregistrement(trajet[1], [1, 2])"
   ]
  },
  {
   "cell_type": "code",
   "execution_count": 6,
   "metadata": {},
   "outputs": [],
   "source": [
    "def Projection(table, liste_indices):\n",
    "    \"\"\"\n",
    "    Arguments :\n",
    "        table : liste de taille n representant l'ensemble des enregistrements du table d'arité k\n",
    "        liste_indices : liste de taille k1 avec 0 < k1 <= k identifiant les indices des attributs avec 0 < indice < k \n",
    "    Return:\n",
    "        new_table : liste de taille n representant le table d'arité k1\n",
    "    Complexité: \n",
    "        new_table.append() : O(1)(amortie)\n",
    "        ProjectionEnregistrement() : O(k1)\n",
    "        iteration sur la liste table : O(n)   \n",
    "        => Complexité total : O(n*k1)\n",
    "    \"\"\"\n",
    "    \n",
    "    new_table = []\n",
    "    for x in table:\n",
    "        new_enregistrement = ProjectionEnregistrement(x, liste_indices)\n",
    "        new_table.append(new_enregistrement)\n",
    "    \n",
    "    return new_table"
   ]
  },
  {
   "cell_type": "code",
   "execution_count": 7,
   "metadata": {},
   "outputs": [
    {
     "ename": "NameError",
     "evalue": "name 'trajet' is not defined",
     "output_type": "error",
     "traceback": [
      "\u001b[1;31m---------------------------------------------------------------------------\u001b[0m",
      "\u001b[1;31mNameError\u001b[0m                                 Traceback (most recent call last)",
      "\u001b[1;32m<ipython-input-7-b23eb65de4e3>\u001b[0m in \u001b[0;36m<module>\u001b[1;34m()\u001b[0m\n\u001b[1;32m----> 1\u001b[1;33m \u001b[0mProjection\u001b[0m\u001b[1;33m(\u001b[0m\u001b[0mtrajet\u001b[0m\u001b[1;33m,\u001b[0m \u001b[1;33m[\u001b[0m\u001b[1;36m1\u001b[0m\u001b[1;33m,\u001b[0m \u001b[1;36m2\u001b[0m\u001b[1;33m]\u001b[0m\u001b[1;33m)\u001b[0m\u001b[1;33m\u001b[0m\u001b[0m\n\u001b[0m",
      "\u001b[1;31mNameError\u001b[0m: name 'trajet' is not defined"
     ]
    }
   ],
   "source": [
    "Projection(trajet, [1, 2])"
   ]
  },
  {
   "cell_type": "markdown",
   "metadata": {},
   "source": [
    "# 3.4 Produit cartésien"
   ]
  },
  {
   "cell_type": "code",
   "execution_count": 8,
   "metadata": {},
   "outputs": [],
   "source": [
    "def ProduitCartesien(table1, table2):\n",
    "    \"\"\"\n",
    "    Arguments:\n",
    "        table1: liste de taille n1 representant l'ensemble des enregistrements du table d'arité k1\n",
    "        table2: liste de taille n2 representant l'ensemble des enregistrements du table d'arité k2\n",
    "    Return:\n",
    "        new_table: liste de taille n1*n2 representant le table X(table1, table2) d'arité k1+k2\n",
    "    Complexité: \n",
    "        new_table.append() : O(1)(amortie)\n",
    "        concaténation (el1+el1) : O(k1+k2) mais on la considére O(1) dans ce projet\n",
    "        iteration sur la liste table1 : O(n1)\n",
    "        iteration sur la liste table2 : O(n2)\n",
    "        => Complexité total : O(n1*n2)\n",
    "    \"\"\"\n",
    "    \n",
    "    new_table = []\n",
    "    for el1 in table1:\n",
    "        for el2 in table2:\n",
    "            new_table.append(el1 + el2)\n",
    "    \n",
    "    return new_table"
   ]
  },
  {
   "cell_type": "code",
   "execution_count": 9,
   "metadata": {},
   "outputs": [
    {
     "ename": "NameError",
     "evalue": "name 'vehicule' is not defined",
     "output_type": "error",
     "traceback": [
      "\u001b[1;31m---------------------------------------------------------------------------\u001b[0m",
      "\u001b[1;31mNameError\u001b[0m                                 Traceback (most recent call last)",
      "\u001b[1;32m<ipython-input-9-3903d6bb06f0>\u001b[0m in \u001b[0;36m<module>\u001b[1;34m()\u001b[0m\n\u001b[0;32m      1\u001b[0m \u001b[1;31m#test\u001b[0m\u001b[1;33m\u001b[0m\u001b[1;33m\u001b[0m\u001b[0m\n\u001b[1;32m----> 2\u001b[1;33m \u001b[0mProduitCartesien\u001b[0m\u001b[1;33m(\u001b[0m\u001b[0mvehicule\u001b[0m\u001b[1;33m,\u001b[0m \u001b[0mtrajet\u001b[0m\u001b[1;33m)\u001b[0m\u001b[1;33m\u001b[0m\u001b[0m\n\u001b[0m",
      "\u001b[1;31mNameError\u001b[0m: name 'vehicule' is not defined"
     ]
    }
   ],
   "source": [
    "#test\n",
    "ProduitCartesien(vehicule, trajet)"
   ]
  },
  {
   "cell_type": "markdown",
   "metadata": {},
   "source": [
    "# 3.5 Jointure"
   ]
  },
  {
   "cell_type": "code",
   "execution_count": 10,
   "metadata": {},
   "outputs": [],
   "source": [
    "def Join(enr1, enr2, indice1, indice2):\n",
    "    \"\"\"\n",
    "    Arguements:\n",
    "        enr1 : liste de taille k1 representant un enregistrement.\n",
    "        enr2 : liste de taille k2 representant un enregistrement.\n",
    "        indice1, indice2 : indices des atrributs sur lequelles on teste l'égailté.\n",
    "    Return:\n",
    "        liste de taille (k2+k2-1) contenant la jointure des deux enregistrements.\n",
    "        Si la condition de la jointure n'est pas respectée, la fonction retourne une liste vide.\n",
    "    Complexité:\n",
    "        ans.append() : O(1)\n",
    "        iteration sur tous les elements de enr2 : O(k2)\n",
    "        affectation de enr1 dans ans (ans = enr1) : O(k1)\n",
    "        =>Complexité totale : O(k2+k1)\n",
    "    \"\"\"\n",
    "    ans = []\n",
    "    if(enr1[indice1] == enr2[indice2]):\n",
    "        ans = enr1\n",
    "        for i in range(len(enr2)):\n",
    "            if i == indice2:\n",
    "                continue\n",
    "            ans.append(enr2[i])\n",
    "        return ans\n",
    "    return []"
   ]
  },
  {
   "cell_type": "code",
   "execution_count": 11,
   "metadata": {},
   "outputs": [],
   "source": [
    "def Jointure(table1, table2, indice1, indice2):\n",
    "    \"\"\"\n",
    "    Arguements:\n",
    "        table1: liste de taille n1 representant un table.\n",
    "        table2: liste de taille n2 representant un table.\n",
    "        indice1, indice2 : indices des atrributs sur lequelles on teste l'égailté.\n",
    "    Return:\n",
    "        liste de taille 0 <= N < n1*n2 contenant la jointure des deux tables.\n",
    "    Complexité:\n",
    "        new_table.append() : O(1)(amortie)\n",
    "        iteration sur la liste table1 : O(n1)\n",
    "        iteration sur la liste table2 : O(n2)\n",
    "        Join() : O(k1+k2)\n",
    "        =>Complexité totale : O(n1*n2*(k1+k2))\n",
    "    \"\"\"\n",
    "    \n",
    "    new_table = []\n",
    "    for el1 in table1:\n",
    "        for el2 in table2:\n",
    "            j = Join(el1, el2, indice1, indice2)\n",
    "            if(len(j)):\n",
    "                new_table.append(j)\n",
    "    \n",
    "    return new_table"
   ]
  },
  {
   "cell_type": "code",
   "execution_count": 12,
   "metadata": {},
   "outputs": [
    {
     "ename": "NameError",
     "evalue": "name 'vehicule' is not defined",
     "output_type": "error",
     "traceback": [
      "\u001b[1;31m---------------------------------------------------------------------------\u001b[0m",
      "\u001b[1;31mNameError\u001b[0m                                 Traceback (most recent call last)",
      "\u001b[1;32m<ipython-input-12-6314010b53fd>\u001b[0m in \u001b[0;36m<module>\u001b[1;34m()\u001b[0m\n\u001b[1;32m----> 1\u001b[1;33m \u001b[0mJointure\u001b[0m\u001b[1;33m(\u001b[0m\u001b[0mvehicule\u001b[0m\u001b[1;33m,\u001b[0m \u001b[0mtrajet\u001b[0m\u001b[1;33m,\u001b[0m \u001b[1;36m0\u001b[0m\u001b[1;33m,\u001b[0m \u001b[1;36m5\u001b[0m\u001b[1;33m)\u001b[0m\u001b[1;33m\u001b[0m\u001b[0m\n\u001b[0m",
      "\u001b[1;31mNameError\u001b[0m: name 'vehicule' is not defined"
     ]
    }
   ],
   "source": [
    "Jointure(vehicule, trajet, 0, 5)"
   ]
  },
  {
   "cell_type": "markdown",
   "metadata": {},
   "source": [
    "# 3.6 Distinct"
   ]
  },
  {
   "cell_type": "code",
   "execution_count": 13,
   "metadata": {},
   "outputs": [],
   "source": [
    "def egale(el1, el2):\n",
    "    \"\"\"\n",
    "    Arguments:\n",
    "        el1, el2: liste de taille k representant un enregistrement.\n",
    "    Return:\n",
    "        True si les deux liste sont egaux, False sinon.\n",
    "    \"\"\"\n",
    "    for i in range(len(el1)):\n",
    "        if el1[i] != el2[i]:\n",
    "            return False\n",
    "    \n",
    "    return True"
   ]
  },
  {
   "cell_type": "code",
   "execution_count": 14,
   "metadata": {},
   "outputs": [],
   "source": [
    "def SupprimerDoublons(table):\n",
    "    \"\"\"\n",
    "    Arguments:\n",
    "        table : liste de taille n represantant une table d'enregistrement d'arité k.\n",
    "    Return:\n",
    "        new_table : liste de taille 0 < N <= n contenant des enregistrement uniques.\n",
    "    Complexité:\n",
    "        new_table.append(): O(1)(amortie)\n",
    "        egale(): O(k)\n",
    "        iteration sur table: O(n)\n",
    "        iteration sur new_table: O(n)\n",
    "        =>Complexité totale: O(k*n^2) \n",
    "    \"\"\"\n",
    "    \n",
    "    new_table = []\n",
    "    for el1 in table:\n",
    "        found = False\n",
    "        for el2 in new_table:\n",
    "            if egale(el1, el2):\n",
    "                found = True\n",
    "                break\n",
    "        if found == False:\n",
    "            new_table.append(el1)\n",
    "    \n",
    "    return new_table"
   ]
  },
  {
   "cell_type": "code",
   "execution_count": 15,
   "metadata": {},
   "outputs": [
    {
     "ename": "NameError",
     "evalue": "name 'trajet' is not defined",
     "output_type": "error",
     "traceback": [
      "\u001b[1;31m---------------------------------------------------------------------------\u001b[0m",
      "\u001b[1;31mNameError\u001b[0m                                 Traceback (most recent call last)",
      "\u001b[1;32m<ipython-input-15-1356c241fd65>\u001b[0m in \u001b[0;36m<module>\u001b[1;34m()\u001b[0m\n\u001b[0;32m      1\u001b[0m \u001b[1;31m#test\u001b[0m\u001b[1;33m\u001b[0m\u001b[1;33m\u001b[0m\u001b[0m\n\u001b[1;32m----> 2\u001b[1;33m \u001b[0mSupprimerDoublons\u001b[0m\u001b[1;33m(\u001b[0m\u001b[0mProjection\u001b[0m\u001b[1;33m(\u001b[0m\u001b[0mtrajet\u001b[0m\u001b[1;33m,\u001b[0m \u001b[1;33m[\u001b[0m\u001b[1;36m1\u001b[0m\u001b[1;33m,\u001b[0m \u001b[1;36m2\u001b[0m\u001b[1;33m]\u001b[0m\u001b[1;33m)\u001b[0m\u001b[1;33m)\u001b[0m\u001b[1;33m\u001b[0m\u001b[0m\n\u001b[0m",
      "\u001b[1;31mNameError\u001b[0m: name 'trajet' is not defined"
     ]
    }
   ],
   "source": [
    "#test\n",
    "SupprimerDoublons(Projection(trajet, [1, 2]))"
   ]
  },
  {
   "cell_type": "markdown",
   "metadata": {},
   "source": [
    "# 4 Implémentation de requetes SQL en Python"
   ]
  },
  {
   "cell_type": "code",
   "execution_count": 16,
   "metadata": {},
   "outputs": [],
   "source": [
    "#Definition des tables\n",
    "trajet = []\n",
    "vehicule = []\n",
    "ticket = []\n",
    "hotel = []\n",
    "chambre = []"
   ]
  },
  {
   "cell_type": "code",
   "execution_count": 17,
   "metadata": {},
   "outputs": [],
   "source": [
    "#Q11\n",
    "resultat = SelectionConstante(trajet, 1, \"Rennes\")"
   ]
  },
  {
   "cell_type": "code",
   "execution_count": 18,
   "metadata": {},
   "outputs": [],
   "source": [
    "#Q12\n",
    "resultat = ProduitCartesien(trajet, vehicule)"
   ]
  },
  {
   "cell_type": "code",
   "execution_count": 19,
   "metadata": {},
   "outputs": [
    {
     "ename": "NameError",
     "evalue": "name 'SelectionEgalite' is not defined",
     "output_type": "error",
     "traceback": [
      "\u001b[1;31m---------------------------------------------------------------------------\u001b[0m",
      "\u001b[1;31mNameError\u001b[0m                                 Traceback (most recent call last)",
      "\u001b[1;32m<ipython-input-19-7a7171941d49>\u001b[0m in \u001b[0;36m<module>\u001b[1;34m()\u001b[0m\n\u001b[0;32m      2\u001b[0m \u001b[1;31m#resultat = Jointure(trajet, vehicule, 3, 0)\u001b[0m\u001b[1;33m\u001b[0m\u001b[1;33m\u001b[0m\u001b[0m\n\u001b[0;32m      3\u001b[0m \u001b[0mresultat\u001b[0m \u001b[1;33m=\u001b[0m \u001b[0mProduitCartesien\u001b[0m\u001b[1;33m(\u001b[0m\u001b[0mtrajet\u001b[0m\u001b[1;33m,\u001b[0m \u001b[0mvehicule\u001b[0m\u001b[1;33m)\u001b[0m\u001b[1;33m\u001b[0m\u001b[0m\n\u001b[1;32m----> 4\u001b[1;33m \u001b[0mresultat\u001b[0m \u001b[1;33m=\u001b[0m \u001b[0mSelectionEgalite\u001b[0m\u001b[1;33m(\u001b[0m\u001b[0mresultat\u001b[0m\u001b[1;33m,\u001b[0m \u001b[1;36m3\u001b[0m\u001b[1;33m,\u001b[0m \u001b[1;36m0\u001b[0m\u001b[1;33m)\u001b[0m\u001b[1;33m\u001b[0m\u001b[0m\n\u001b[0m",
      "\u001b[1;31mNameError\u001b[0m: name 'SelectionEgalite' is not defined"
     ]
    }
   ],
   "source": [
    "#Q13\n",
    "#resultat = Jointure(trajet, vehicule, 3, 0)\n",
    "resultat = ProduitCartesien(trajet, vehicule)\n",
    "resultat = SelectionEgalite(resultat, 3, 0)"
   ]
  },
  {
   "cell_type": "code",
   "execution_count": 20,
   "metadata": {},
   "outputs": [],
   "source": [
    "#Q14\n",
    "j = Jointure(hotel, chambre, 0, 1)\n",
    "resultat = Projection(j, [1, 2, 5, 6])"
   ]
  },
  {
   "cell_type": "code",
   "execution_count": 21,
   "metadata": {},
   "outputs": [
    {
     "ename": "NameError",
     "evalue": "name 'SelectionEgalite' is not defined",
     "output_type": "error",
     "traceback": [
      "\u001b[1;31m---------------------------------------------------------------------------\u001b[0m",
      "\u001b[1;31mNameError\u001b[0m                                 Traceback (most recent call last)",
      "\u001b[1;32m<ipython-input-21-abd420dd02a2>\u001b[0m in \u001b[0;36m<module>\u001b[1;34m()\u001b[0m\n\u001b[0;32m      3\u001b[0m \u001b[1;31m#ret = Jointure(ret, ticket, 3, 1)\u001b[0m\u001b[1;33m\u001b[0m\u001b[1;33m\u001b[0m\u001b[0m\n\u001b[0;32m      4\u001b[0m \u001b[0mret\u001b[0m \u001b[1;33m=\u001b[0m \u001b[0mProduitCartesien\u001b[0m\u001b[1;33m(\u001b[0m\u001b[0mhotel\u001b[0m\u001b[1;33m,\u001b[0m \u001b[0mtrajet\u001b[0m\u001b[1;33m)\u001b[0m\u001b[1;33m\u001b[0m\u001b[0m\n\u001b[1;32m----> 5\u001b[1;33m \u001b[0mret\u001b[0m \u001b[1;33m=\u001b[0m \u001b[0mSelectionEgalite\u001b[0m\u001b[1;33m(\u001b[0m\u001b[0mret\u001b[0m\u001b[1;33m,\u001b[0m \u001b[1;36m2\u001b[0m\u001b[1;33m,\u001b[0m \u001b[1;36m2\u001b[0m\u001b[1;33m)\u001b[0m\u001b[1;33m\u001b[0m\u001b[0m\n\u001b[0m\u001b[0;32m      6\u001b[0m \u001b[0mret\u001b[0m \u001b[1;33m=\u001b[0m \u001b[0mProduitCartesien\u001b[0m\u001b[1;33m(\u001b[0m\u001b[0mret\u001b[0m\u001b[1;33m,\u001b[0m \u001b[0mticket\u001b[0m\u001b[1;33m)\u001b[0m\u001b[1;33m\u001b[0m\u001b[0m\n\u001b[0;32m      7\u001b[0m \u001b[0mret\u001b[0m \u001b[1;33m=\u001b[0m \u001b[0mSelectionEgalite\u001b[0m\u001b[1;33m(\u001b[0m\u001b[0mret\u001b[0m\u001b[1;33m,\u001b[0m \u001b[1;36m3\u001b[0m\u001b[1;33m,\u001b[0m \u001b[1;36m8\u001b[0m\u001b[1;33m)\u001b[0m\u001b[1;33m\u001b[0m\u001b[0m\n",
      "\u001b[1;31mNameError\u001b[0m: name 'SelectionEgalite' is not defined"
     ]
    }
   ],
   "source": [
    "#Q15\n",
    "#ret = Jointure(hotel, trajet, 2, 2)\n",
    "#ret = Jointure(ret, ticket, 3, 1)\n",
    "ret = ProduitCartesien(hotel, trajet)\n",
    "ret = SelectionEgalite(ret, 2, 2)\n",
    "ret = ProduitCartesien(ret, ticket)\n",
    "ret = SelectionEgalite(ret, 3, 8)\n",
    "ret = SelectionConstante(ret, 12, \"50\")\n",
    "resultat = Projection(ret, [0])"
   ]
  },
  {
   "cell_type": "code",
   "execution_count": 22,
   "metadata": {},
   "outputs": [
    {
     "ename": "NameError",
     "evalue": "name 'SelectionEgalite' is not defined",
     "output_type": "error",
     "traceback": [
      "\u001b[1;31m---------------------------------------------------------------------------\u001b[0m",
      "\u001b[1;31mNameError\u001b[0m                                 Traceback (most recent call last)",
      "\u001b[1;32m<ipython-input-22-b1bdfe9e4998>\u001b[0m in \u001b[0;36m<module>\u001b[1;34m()\u001b[0m\n\u001b[0;32m      1\u001b[0m \u001b[1;31m#Q16\u001b[0m\u001b[1;33m\u001b[0m\u001b[1;33m\u001b[0m\u001b[0m\n\u001b[0;32m      2\u001b[0m \u001b[0mret\u001b[0m \u001b[1;33m=\u001b[0m \u001b[0mProduitCartesien\u001b[0m\u001b[1;33m(\u001b[0m\u001b[0mhotel\u001b[0m\u001b[1;33m,\u001b[0m \u001b[0mtrajet\u001b[0m\u001b[1;33m)\u001b[0m\u001b[1;33m\u001b[0m\u001b[0m\n\u001b[1;32m----> 3\u001b[1;33m \u001b[0mret\u001b[0m \u001b[1;33m=\u001b[0m \u001b[0mSelectionEgalite\u001b[0m\u001b[1;33m(\u001b[0m\u001b[0mret\u001b[0m\u001b[1;33m,\u001b[0m \u001b[1;36m2\u001b[0m\u001b[1;33m,\u001b[0m \u001b[1;36m2\u001b[0m\u001b[1;33m)\u001b[0m\u001b[1;33m\u001b[0m\u001b[0m\n\u001b[0m\u001b[0;32m      4\u001b[0m \u001b[0mret\u001b[0m \u001b[1;33m=\u001b[0m \u001b[0mProduitCartesien\u001b[0m\u001b[1;33m(\u001b[0m\u001b[0mret\u001b[0m\u001b[1;33m,\u001b[0m \u001b[0mticket\u001b[0m\u001b[1;33m)\u001b[0m\u001b[1;33m\u001b[0m\u001b[0m\n\u001b[0;32m      5\u001b[0m \u001b[0mret\u001b[0m \u001b[1;33m=\u001b[0m \u001b[0mSelectionEgalite\u001b[0m\u001b[1;33m(\u001b[0m\u001b[0mret\u001b[0m\u001b[1;33m,\u001b[0m \u001b[1;36m3\u001b[0m\u001b[1;33m,\u001b[0m \u001b[1;36m8\u001b[0m\u001b[1;33m)\u001b[0m\u001b[1;33m\u001b[0m\u001b[0m\n",
      "\u001b[1;31mNameError\u001b[0m: name 'SelectionEgalite' is not defined"
     ]
    }
   ],
   "source": [
    "#Q16\n",
    "ret = ProduitCartesien(hotel, trajet)\n",
    "ret = SelectionEgalite(ret, 2, 2)\n",
    "ret = ProduitCartesien(ret, ticket)\n",
    "ret = SelectionEgalite(ret, 3, 8)\n",
    "ret = SelectionConstante(ret, 12, \"50\")\n",
    "hotel_ids = Projection(ret, [0])\n",
    "ret = SelectionConstante(chambre, 3, \"100\")\n",
    "resultat = Jointure(ret, hotel_ids, 1, 0)"
   ]
  },
  {
   "cell_type": "markdown",
   "metadata": {},
   "source": [
    "# 5 Amélioration des performances"
   ]
  },
  {
   "cell_type": "markdown",
   "metadata": {},
   "source": [
    "## 5.1 Tables triées par rapport à un indice"
   ]
  },
  {
   "cell_type": "code",
   "execution_count": 23,
   "metadata": {},
   "outputs": [],
   "source": [
    "# Definition des deux tables\n",
    "trajet = [[\"Trajet1\", \"Lille\", \"Rennes\", \"5oct.2016\", \"14h00\", \"1562\"],\n",
    "          [\"Trajet1\", \"Lille\", \"Rennes\", \"5oct.2016\", \"09h00\", \"30990\"],\n",
    "         [\"Trajet1\", \"Lille\", \"Rennes\", \"5oct.2016\", \"10h00\", \"98300\"]\n",
    "         ]\n",
    "vehicule = [ ['30990', 'A320', 'Hop!'], ['98300', 'Bus', 'IBUS'], ['7120', 'Bus', 'IBxUS'], ['1562', 'TGV', 'SNCF']]"
   ]
  },
  {
   "cell_type": "code",
   "execution_count": 24,
   "metadata": {},
   "outputs": [],
   "source": [
    "#Q17\n",
    "def VerifieTrie(table, indice):\n",
    "    for i in range(len(table)-1):\n",
    "        if table[i][indice] > table[i+1][indice]:\n",
    "            return False\n",
    "    \n",
    "    return True"
   ]
  },
  {
   "cell_type": "code",
   "execution_count": 25,
   "metadata": {},
   "outputs": [
    {
     "data": {
      "text/plain": [
       "True"
      ]
     },
     "execution_count": 25,
     "metadata": {},
     "output_type": "execute_result"
    }
   ],
   "source": [
    "#test\n",
    "VerifieTrie(vehicule, 2)"
   ]
  },
  {
   "cell_type": "code",
   "execution_count": 26,
   "metadata": {},
   "outputs": [],
   "source": [
    "#Q18\n",
    "\n",
    "def lower_bound(table, indice, constante):\n",
    "    \"\"\"\n",
    "    Argument:\n",
    "        table: liste de taille n\n",
    "        indice: l'indice de l'attribut pour lequel la table est triee\n",
    "        constante: valeur de l'attribut recherché\n",
    "    Return:\n",
    "        ans: l'indice du premier element correspondant au critere de recherche\n",
    "    Complexité:\n",
    "        =>O(logn)\n",
    "    \"\"\"\n",
    "    \n",
    "    #dans le cas ou il n'y a aucune valeur inferieur a constante\n",
    "    if table[0][indice] > constante:\n",
    "        return -1\n",
    "    \n",
    "    n = len(table)\n",
    "    l = 0\n",
    "    r = n-1\n",
    "    ans = -1\n",
    "    while l <= r:\n",
    "        mid = l + (r-l)//2\n",
    "        el = table[mid]\n",
    "        if el[indice] == constante:\n",
    "            ans = mid\n",
    "            r = mid - 1\n",
    "        elif el[indice] < constante:\n",
    "            l = mid + 1\n",
    "        else:\n",
    "            r = mid - 1\n",
    "    return ans\n",
    "\n",
    "def upper_bound(table, indice, constante):\n",
    "    \"\"\"\n",
    "    Argument:\n",
    "        table: liste de taille n\n",
    "        indice: l'indice de l'attribut pour lequel la table est triee\n",
    "        constante: valeur de l'attribut recherché\n",
    "    Return:\n",
    "        ans: l'indice du dernier element correspondant au critere de recherche\n",
    "    Complexité:\n",
    "        =>O(logn)\n",
    "    \"\"\"\n",
    "    \n",
    "    n = len(table)\n",
    "    #dans le cas ou il n'y a aucune valeur superieur a constante\n",
    "    if table[n-1][indice] < constante:\n",
    "        return -1\n",
    "    \n",
    "    l = 0\n",
    "    r = n - 1\n",
    "    ans = -1\n",
    "    while l <= r:\n",
    "        mid = l + (r-l)//2\n",
    "        el = table[mid]\n",
    "        if el[indice] == constante:\n",
    "            ans = mid\n",
    "            l = mid + 1\n",
    "        elif el[indice] < constante:\n",
    "            l = mid + 1\n",
    "        else:\n",
    "            r = mid - 1\n",
    "    return ans\n",
    "\n",
    "def SelectionConstanteTrie(table, indice, constante):\n",
    "    \"\"\"\n",
    "    Complexité:\n",
    "        lower_bound(): O(logn)\n",
    "        upper_bound(): O(logn)\n",
    "        =>Complexite total: O(logn)\n",
    "    \"\"\"\n",
    "    l = lower_bound(trajet, 1, constante)\n",
    "    #aucune element trouvé\n",
    "    if l == -1:\n",
    "        return []\n",
    "    r = upper_bound(trajet, 1, constante)\n",
    "    return table[l:r+1]\n",
    "   "
   ]
  },
  {
   "cell_type": "code",
   "execution_count": 27,
   "metadata": {},
   "outputs": [
    {
     "data": {
      "text/plain": [
       "[]"
      ]
     },
     "execution_count": 27,
     "metadata": {},
     "output_type": "execute_result"
    }
   ],
   "source": [
    "#test\n",
    "SelectionConstanteTrie(vehicule, 1, \"Bus\")"
   ]
  },
  {
   "cell_type": "code",
   "execution_count": 30,
   "metadata": {},
   "outputs": [],
   "source": [
    "#Q19\n",
    "def binary_search(key, table, indice):\n",
    "    \"\"\"\n",
    "    Arguments:\n",
    "        key: \n",
    "        table: liste de taille n\n",
    "        indice:\n",
    "    Retrun:\n",
    "        indice de l'element s'il existe, sinon -1\n",
    "    Complexité:\n",
    "        =>O(logn)\n",
    "    \"\"\"\n",
    "    \n",
    "    n = len(table)\n",
    "    l = 0\n",
    "    r = n-1\n",
    "    while l <= r:\n",
    "        mid = l + (r-l)//2\n",
    "        cur = table[mid]\n",
    "        if cur[indice] == key:\n",
    "            return mid\n",
    "        elif cur[indice] > key:\n",
    "            r = mid - 1\n",
    "        else:\n",
    "            l = mid + 1\n",
    "    return -1\n",
    "\n",
    "def Join2(el1, el2, indice2):\n",
    "    \"\"\"\n",
    "    Arguements:\n",
    "        el1 : liste de taille k1 representant un enregistrement.\n",
    "        el2 : liste de taille k2 representant un enregistrement.\n",
    "        indice2 : indice de l'atrributs à supprimer du la 2eme liste el2.\n",
    "    Return:\n",
    "        liste de taille (k2+k2-1) contenant la jointure des deux enregistrements.\n",
    "        Si la condition de la jointure n'est pas respectée, la fonction retourne une liste vide.\n",
    "    Complexité:\n",
    "        ans.append() : O(1)\n",
    "        iteration sur tous les elements de el2 : O(k2)\n",
    "        affectation de e1 dans ans (ans = el1) : O(k1)\n",
    "        =>Complexité totale : O(k2+k1):\n",
    "        \n",
    "    \"\"\"\n",
    "    ans = []\n",
    "    ans = el1\n",
    "    for i in range(len(el2)):\n",
    "        if i == indice2:\n",
    "            continue\n",
    "        ans.append(el2[i])\n",
    "    return ans\n",
    "\n",
    "def JointureTrie(table1, table2, indice1, indice2):\n",
    "    \"\"\"\n",
    "    Complexité:\n",
    "        iteration sur tous les elements de table1: O(n1)\n",
    "        binary_search(): O(log(n2))\n",
    "        Join2(): O(k1+k2)\n",
    "        new_table.append(): O(1)\n",
    "        =>Complexite total: O(n1*(k1+k2 + log(n2)))\n",
    "    \"\"\"\n",
    "    \n",
    "    new_table = []\n",
    "    for x in table1:\n",
    "        i = binary_search(x[indice1], table2, indice2)\n",
    "        if i == -1:\n",
    "            continue\n",
    "        new_table.append(Join2(x, table2[i], indice2))\n",
    "    \n",
    "    return new_table\n",
    "    "
   ]
  },
  {
   "cell_type": "code",
   "execution_count": 31,
   "metadata": {},
   "outputs": [
    {
     "data": {
      "text/plain": [
       "[['1', 'TGV', 'SNCF', 'Trajet1', 'Lille', 'Rennes', '5oct.2016', '14h00'],\n",
       " ['2', 'Bus', 'IBxUS', 'Trajet1', 'Lille', 'Rennes', '5oct.2016', '09h00'],\n",
       " ['4', 'Bus', 'IBUS', 'Trajet1', 'Lille', 'Rennes', '5oct.2016', '10h00']]"
      ]
     },
     "execution_count": 31,
     "metadata": {},
     "output_type": "execute_result"
    }
   ],
   "source": [
    "vehicule = [['1', 'TGV', 'SNCF'], ['2', 'Bus', 'IBxUS'], ['3', 'A320', 'Hop!'], ['4', 'Bus', 'IBUS'] ]\n",
    "trajet = [[\"Trajet1\", \"Lille\", \"Rennes\", \"5oct.2016\", \"14h00\", \"1\"],\n",
    "          [\"Trajet1\", \"Lille\", \"Rennes\", \"5oct.2016\", \"09h00\", \"2\"],\n",
    "         [\"Trajet1\", \"Lille\", \"Rennes\", \"5oct.2016\", \"10h00\", \"4\"]\n",
    "         ]\n",
    "JointureTrie(vehicule, trajet, 0, 5)"
   ]
  },
  {
   "cell_type": "markdown",
   "metadata": {},
   "source": [
    "#### Q20:\n",
    " Cette approche est plus performante que l'autre que si les tables sont statitques, càd qu'il n'y a pas\n",
    " des operations qui modifient le contenu des tables.\n",
    " En effet, apres chaque ajout ou modification des contenus de la liste, on sera obligés de refaire un tri pour \n",
    " que les algorithmes utilisé (binary_search, lower_bound, upper_bound) fonctionnent correctement puisqu'ils \n",
    " necessitent des listes triés. Cela aura effet d'augmenter la complexité des operations d'ajout et modification de\n",
    " O(1) à O(nlogn), mais en utilisant des structures de données adequates tel que les arbres binaires equilibrées\n",
    " (AVL, Red-Black trees...), on pourra faire l'ajout, suppression, accés et modification en O(logn)."
   ]
  },
  {
   "cell_type": "code",
   "execution_count": 32,
   "metadata": {},
   "outputs": [],
   "source": [
    "#Q21\n",
    "def CreerDictionnaire(table, indice):\n",
    "    \"\"\"\n",
    "    Complexité:\n",
    "        =>O(n) avec n = len(table)\n",
    "    \"\"\"\n",
    "    d = {}\n",
    "    for i in range(len(table)):\n",
    "        key = table[i][indice]\n",
    "        if key in d:\n",
    "            d[key].append(i)\n",
    "        else:\n",
    "            d[key] = [i]\n",
    "    return d"
   ]
  },
  {
   "cell_type": "code",
   "execution_count": 33,
   "metadata": {},
   "outputs": [
    {
     "data": {
      "text/plain": [
       "{'TGV': [0], 'Bus': [1, 3], 'A320': [2]}"
      ]
     },
     "execution_count": 33,
     "metadata": {},
     "output_type": "execute_result"
    }
   ],
   "source": [
    "#test\n",
    "vehicule = [['1', 'TGV', 'SNCF'], ['2', 'Bus', 'IBxUS'], ['3', 'A320', 'Hop!'], ['4', 'Bus', 'IBUS'] ]\n",
    "CreerDictionnaire(vehicule, 1)"
   ]
  },
  {
   "cell_type": "code",
   "execution_count": 34,
   "metadata": {},
   "outputs": [],
   "source": [
    "#Q22\n",
    "def SelectionConstanteDictionnaire(table, indice, constante, dico):\n",
    "    \"\"\"\n",
    "    Complexité:\n",
    "        .CreerDictionaire(): O(n) avec n = len(table)\n",
    "        .iteration sur tous les elements ayant la valeur de l'attribut d'indice 'indice' \n",
    "        egale à constante: O(k) avec k = len(dico[constante])\n",
    "        =>Complexité total: O(n+k)\n",
    "    \"\"\"\n",
    "    l = []\n",
    "    for i in dico[constante]:\n",
    "        l.append(table[i])\n",
    "    return l"
   ]
  },
  {
   "cell_type": "code",
   "execution_count": 35,
   "metadata": {},
   "outputs": [
    {
     "data": {
      "text/plain": [
       "[['2', 'Bus', 'IBxUS'], ['4', 'Bus', 'IBUS']]"
      ]
     },
     "execution_count": 35,
     "metadata": {},
     "output_type": "execute_result"
    }
   ],
   "source": [
    "#test\n",
    "dico = CreerDictionnaire(vehicule, 1)\n",
    "SelectionConstanteDictionnaire(vehicule, 1, \"Bus\", dico)"
   ]
  },
  {
   "cell_type": "markdown",
   "metadata": {},
   "source": [
    "#### Q23\n",
    " SelectionConstante():\n",
    "     worst case = best case = average case = O(n) avec n = len(table)    \n",
    " SelectionConstanteDictionnaire() (sans compter la creeation du dictionnaire):\n",
    "     worst case O(n) : tous les elements de la table correspondend à l'element recherché\n",
    "     best case O(1) : aucun element de la table ne correspond à l'element recherché\n",
    "     average case O(k) : nombre d'elements correspondant à l'element recherché"
   ]
  },
  {
   "cell_type": "code",
   "execution_count": 36,
   "metadata": {},
   "outputs": [],
   "source": [
    "#Q24\n",
    "\n",
    "def Join3(el1, el2, indice2):\n",
    "    \"\"\"\n",
    "    Arguements:\n",
    "        el1 : liste de taille k1 representant un enregistrement.\n",
    "        el2 : liste de taille k2 representant un enregistrement.\n",
    "        indice2 : indice de l'atrributs à supprimer du la 2eme liste el2.\n",
    "    Return:\n",
    "        liste de taille (k2+k2-1) contenant la jointure des deux enregistrements.\n",
    "        Si la condition de la jointure n'est pas respectée, la fonction retourne une liste vide.\n",
    "    Complexité:\n",
    "        ans.append() : O(1)\n",
    "        iteration sur tous les elements de el2 : O(k2)\n",
    "        affectation de e1 dans ans (ans = el1) : O(k1)\n",
    "        =>Complexité totale : O(k2+k1):\n",
    "        \n",
    "    \"\"\"\n",
    "    ans = []\n",
    "    ans = el1\n",
    "    for i in range(len(el2)):\n",
    "        if i == indice2:\n",
    "            continue\n",
    "        ans.append(el2[i])\n",
    "    return ans\n",
    "\n",
    "def JointureDictionnaire(table1, table2, indice1, indice2, dico2):\n",
    "    L = []\n",
    "    for x in table1:\n",
    "        el = x[indice1]\n",
    "        if el not in dico2:\n",
    "            continue\n",
    "        for i in dico2[el]:\n",
    "            L.append(Join3(x, table2[i], indice2))\n",
    "    \n",
    "    return L"
   ]
  },
  {
   "cell_type": "code",
   "execution_count": 37,
   "metadata": {},
   "outputs": [
    {
     "data": {
      "text/plain": [
       "[['1', 'TGV', 'SNCF', 'Trajet1', 'Lille', 'Rennes', '5oct.2016', '14h00'],\n",
       " ['2', 'Bus', 'IBxUS', 'Trajet1', 'Lille', 'Rennes', '5oct.2016', '09h00'],\n",
       " ['4', 'Bus', 'IBUS', 'Trajet1', 'Lille', 'Rennes', '5oct.2016', '10h00']]"
      ]
     },
     "execution_count": 37,
     "metadata": {},
     "output_type": "execute_result"
    }
   ],
   "source": [
    "#test\n",
    "vehicule = [['1', 'TGV', 'SNCF'], ['2', 'Bus', 'IBxUS'], ['3', 'A320', 'Hop!'], ['4', 'Bus', 'IBUS'] ]\n",
    "trajet = [[\"Trajet1\", \"Lille\", \"Rennes\", \"5oct.2016\", \"14h00\", \"1\"],\n",
    "          [\"Trajet1\", \"Lille\", \"Rennes\", \"5oct.2016\", \"09h00\", \"2\"],\n",
    "         [\"Trajet1\", \"Lille\", \"Rennes\", \"5oct.2016\", \"10h00\", \"4\"]\n",
    "         ]\n",
    "dico2 = CreerDictionnaire(trajet, 5)\n",
    "JointureDictionnaire(vehicule, trajet, 0, 5, dico2)"
   ]
  },
  {
   "cell_type": "markdown",
   "metadata": {},
   "source": [
    "#### Q26\n",
    "Afin d'ameliorer les performances, on pourra creer le dictionnaire à partir de la table de taille maximale."
   ]
  },
  {
   "cell_type": "code",
   "execution_count": null,
   "metadata": {},
   "outputs": [],
   "source": []
  }
 ],
 "metadata": {
  "kernelspec": {
   "display_name": "Python 3",
   "language": "python",
   "name": "python3"
  },
  "language_info": {
   "codemirror_mode": {
    "name": "ipython",
    "version": 3
   },
   "file_extension": ".py",
   "mimetype": "text/x-python",
   "name": "python",
   "nbconvert_exporter": "python",
   "pygments_lexer": "ipython3",
   "version": "3.6.5"
  }
 },
 "nbformat": 4,
 "nbformat_minor": 2
}
